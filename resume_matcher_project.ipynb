{
  "nbformat": 4,
  "nbformat_minor": 0,
  "metadata": {
    "colab": {
      "provenance": [],
      "authorship_tag": "ABX9TyMyeK+6RitOMxAO3pHDuJRx",
      "include_colab_link": true
    },
    "kernelspec": {
      "name": "python3",
      "display_name": "Python 3"
    },
    "language_info": {
      "name": "python"
    }
  },
  "cells": [
    {
      "cell_type": "markdown",
      "metadata": {
        "id": "view-in-github",
        "colab_type": "text"
      },
      "source": [
        "<a href=\"https://colab.research.google.com/github/deepu8900/Resume_JD_Matcher/blob/main/resume_matcher_project.ipynb\" target=\"_parent\"><img src=\"https://colab.research.google.com/assets/colab-badge.svg\" alt=\"Open In Colab\"/></a>"
      ]
    },
    {
      "cell_type": "code",
      "source": [
        "!pip install -q sentence-transformers faiss-cpu streamlit fastapi uvicorn nest-asyncio pyngrok\n",
        "\n"
      ],
      "metadata": {
        "id": "X0jBJ-D2zk_S"
      },
      "execution_count": 40,
      "outputs": []
    },
    {
      "cell_type": "code",
      "source": [
        "from pyngrok import ngrok\n",
        "ngrok.kill()\n"
      ],
      "metadata": {
        "id": "aPsni0N12Dfd"
      },
      "execution_count": 41,
      "outputs": []
    },
    {
      "cell_type": "code",
      "source": [
        "%%writefile matcher.py\n",
        "from sentence_transformers import SentenceTransformer\n",
        "import numpy as np\n",
        "import re\n",
        "\n",
        "model = SentenceTransformer('all-MiniLM-L6-v2')\n",
        "\n",
        "def preprocess_text(text):\n",
        "    sentences = re.split(r'[.\\n]', text)\n",
        "    return [s.strip() for s in sentences if s.strip()]\n",
        "\n",
        "def compute_embeddings(sentences):\n",
        "    return model.encode(sentences)\n",
        "\n",
        "def cosine_similarity(a, b):\n",
        "    return np.dot(a, b) / (np.linalg.norm(a) * np.linalg.norm(b))\n",
        "\n",
        "def match_resume_to_jd(resume_text, jd_text, threshold=0.75):\n",
        "    resume_chunks = preprocess_text(resume_text)\n",
        "    jd_chunks = preprocess_text(jd_text)\n",
        "    resume_embeddings = compute_embeddings(resume_chunks)\n",
        "    jd_embeddings = compute_embeddings(jd_chunks)\n",
        "    matched = []\n",
        "    missing = []\n",
        "    for i, res_emb in enumerate(resume_embeddings):\n",
        "        similarities = [cosine_similarity(res_emb, jd_emb) for jd_emb in jd_embeddings]\n",
        "        max_sim = max(similarities)\n",
        "        if max_sim >= threshold:\n",
        "            matched.append((resume_chunks[i], max_sim))\n",
        "        else:\n",
        "            missing.append(resume_chunks[i])\n",
        "    match_percent = round((len(matched) / len(resume_chunks)) * 100, 2)\n",
        "    return matched, missing, match_percent\n"
      ],
      "metadata": {
        "colab": {
          "base_uri": "https://localhost:8080/"
        },
        "id": "bVy0ulup1S2M",
        "outputId": "25334246-4129-4cf1-e628-40478e383473"
      },
      "execution_count": 42,
      "outputs": [
        {
          "output_type": "stream",
          "name": "stdout",
          "text": [
            "Overwriting matcher.py\n"
          ]
        }
      ]
    },
    {
      "cell_type": "code",
      "source": [
        "%%writefile app.py\n",
        "import streamlit as st\n",
        "from matcher import match_resume_to_jd\n",
        "\n",
        "st.set_page_config(page_title=\"LLM Resume Matcher\", layout=\"wide\")\n",
        "st.title(\"📄 Resume vs JD Matcher\")\n",
        "\n",
        "col1, col2 = st.columns(2)\n",
        "\n",
        "with col1:\n",
        "    resume_text = st.text_area(\"Paste Resume Text\", height=300)\n",
        "\n",
        "with col2:\n",
        "    jd_text = st.text_area(\"Paste Job Description Text\", height=300)\n",
        "\n",
        "if st.button(\"🔍 Match Resume to JD\"):\n",
        "    if resume_text and jd_text:\n",
        "        matched, missing, percentage = match_resume_to_jd(resume_text, jd_text)\n",
        "        st.success(f\"✅ Match Percentage: {percentage}%\")\n",
        "        st.subheader(\"✔️ Matched Resume Sentences\")\n",
        "        for sentence, score in matched:\n",
        "            st.markdown(f\"- {sentence} _(score: {round(score, 2)})_\")\n",
        "        st.subheader(\"❌ Missing Sentences\")\n",
        "        for sentence in missing:\n",
        "            st.markdown(f\"- {sentence}\")\n",
        "    else:\n",
        "        st.warning(\"Please provide both resume and job description.\")\n"
      ],
      "metadata": {
        "colab": {
          "base_uri": "https://localhost:8080/"
        },
        "id": "ABISqPx2zm6U",
        "outputId": "8f55968a-6069-4a99-e159-e3981a096e61"
      },
      "execution_count": 43,
      "outputs": [
        {
          "output_type": "stream",
          "name": "stdout",
          "text": [
            "Overwriting app.py\n"
          ]
        }
      ]
    },
    {
      "cell_type": "code",
      "source": [
        "import nest_asyncio\n",
        "import threading\n",
        "import time\n",
        "from pyngrok import ngrok\n",
        "\n",
        "ngrok.set_auth_token(\"30s2LdaMd7AWlMnTnBE6n7VNzKZ_3vnYzx8Cox6X6GhzCd942\")\n",
        "\n",
        "def run_streamlit():\n",
        "    !streamlit run app.py &>/content/log.txt\n",
        "\n",
        "nest_asyncio.apply()\n",
        "threading.Thread(target=run_streamlit).start()\n",
        "\n",
        "time.sleep(5)\n",
        "public_url = ngrok.connect(8501)\n",
        "print(f\"🚀 Your Streamlit app is live at: {public_url}\")\n"
      ],
      "metadata": {
        "colab": {
          "base_uri": "https://localhost:8080/"
        },
        "id": "ZlO2tOVbzyhJ",
        "outputId": "5ad3990b-7539-404f-df6c-96f3d72173bd"
      },
      "execution_count": 44,
      "outputs": [
        {
          "output_type": "stream",
          "name": "stdout",
          "text": [
            "🚀 Your Streamlit app is live at: NgrokTunnel: \"https://cb8e20d043cf.ngrok-free.app\" -> \"http://localhost:8501\"\n"
          ]
        }
      ]
    }
  ]
}